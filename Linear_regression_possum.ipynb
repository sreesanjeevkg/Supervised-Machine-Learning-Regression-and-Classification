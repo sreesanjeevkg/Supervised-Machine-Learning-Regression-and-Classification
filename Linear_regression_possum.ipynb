{
  "nbformat": 4,
  "nbformat_minor": 0,
  "metadata": {
    "colab": {
      "name": "Linear regression - possum.ipynb",
      "provenance": [],
      "collapsed_sections": [],
      "authorship_tag": "ABX9TyNXxvVw8gyGFyk9pgB9rl0j",
      "include_colab_link": true
    },
    "kernelspec": {
      "name": "python3",
      "display_name": "Python 3"
    },
    "language_info": {
      "name": "python"
    }
  },
  "cells": [
    {
      "cell_type": "markdown",
      "metadata": {
        "id": "view-in-github",
        "colab_type": "text"
      },
      "source": [
        "<a href=\"https://colab.research.google.com/github/sreesanjeevkg/Supervised-Machine-Learning-Regression-and-Classification/blob/main/Linear_regression_possum.ipynb\" target=\"_parent\"><img src=\"https://colab.research.google.com/assets/colab-badge.svg\" alt=\"Open In Colab\"/></a>"
      ]
    },
    {
      "cell_type": "code",
      "source": [
        "! pip install -q kaggle"
      ],
      "metadata": {
        "id": "VTHgjneE3A3E"
      },
      "execution_count": 1,
      "outputs": []
    },
    {
      "cell_type": "code",
      "source": [
        "from google.colab import files\n",
        "files.upload()"
      ],
      "metadata": {
        "colab": {
          "resources": {
            "http://localhost:8080/nbextensions/google.colab/files.js": {
              "data": "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",
              "ok": true,
              "headers": [
                [
                  "content-type",
                  "application/javascript"
                ]
              ],
              "status": 200,
              "status_text": ""
            }
          },
          "base_uri": "https://localhost:8080/",
          "height": 92
        },
        "id": "H3xrGj925gog",
        "outputId": "ff239684-8262-4a5a-a270-f90c4a833fa3"
      },
      "execution_count": 2,
      "outputs": [
        {
          "output_type": "display_data",
          "data": {
            "text/plain": [
              "<IPython.core.display.HTML object>"
            ],
            "text/html": [
              "\n",
              "     <input type=\"file\" id=\"files-7e5a79ed-d3ef-4cd6-9a7b-82db3e75f36b\" name=\"files[]\" multiple disabled\n",
              "        style=\"border:none\" />\n",
              "     <output id=\"result-7e5a79ed-d3ef-4cd6-9a7b-82db3e75f36b\">\n",
              "      Upload widget is only available when the cell has been executed in the\n",
              "      current browser session. Please rerun this cell to enable.\n",
              "      </output>\n",
              "      <script src=\"/nbextensions/google.colab/files.js\"></script> "
            ]
          },
          "metadata": {}
        },
        {
          "output_type": "stream",
          "name": "stdout",
          "text": [
            "Saving kaggle (1).json to kaggle (1).json\n"
          ]
        },
        {
          "output_type": "execute_result",
          "data": {
            "text/plain": [
              "{'kaggle (1).json': b'{\"username\":\"sanjeev2407\",\"key\":\"2d685f24e904d2e07f4ab20580fa39e5\"}'}"
            ]
          },
          "metadata": {},
          "execution_count": 2
        }
      ]
    },
    {
      "cell_type": "code",
      "source": [
        "! mkdir ~/.kaggle"
      ],
      "metadata": {
        "id": "d7oJWDid5vaU"
      },
      "execution_count": 3,
      "outputs": []
    },
    {
      "cell_type": "code",
      "source": [
        "! cp kaggle.json ~/.kaggle/"
      ],
      "metadata": {
        "id": "3yneitGT53M-"
      },
      "execution_count": 6,
      "outputs": []
    },
    {
      "cell_type": "code",
      "source": [
        "! chmod 600 ~/.kaggle/kaggle.json"
      ],
      "metadata": {
        "id": "mLoMLByJ564x"
      },
      "execution_count": 7,
      "outputs": []
    },
    {
      "cell_type": "code",
      "source": [
        "! kaggle datasets list"
      ],
      "metadata": {
        "colab": {
          "base_uri": "https://localhost:8080/"
        },
        "id": "-EyfghCT6KK4",
        "outputId": "d73c20ef-2f60-4f65-d38b-dad74a75e052"
      },
      "execution_count": 8,
      "outputs": [
        {
          "output_type": "stream",
          "name": "stdout",
          "text": [
            "ref                                                             title                                                size  lastUpdated          downloadCount  voteCount  usabilityRating  \n",
            "--------------------------------------------------------------  --------------------------------------------------  -----  -------------------  -------------  ---------  ---------------  \n",
            "victorsoeiro/netflix-tv-shows-and-movies                        Netflix TV Shows and Movies                           2MB  2022-05-15 00:01:23          10386        315  1.0              \n",
            "devansodariya/student-performance-data                          Student Performance Dataset                           7KB  2022-05-26 13:55:09           5818        180  0.9705882        \n",
            "mohamedharris/supermart-grocery-sales-retail-analytics-dataset  Supermart Grocery Sales - Retail Analytics Dataset  191KB  2022-06-12 16:14:44            880         44  0.88235295       \n",
            "sameepvani/nasa-nearest-earth-objects                           NASA - Nearest Earth Objects                          7MB  2022-06-17 02:32:18            607         43  1.0              \n",
            "ruchi798/data-science-job-salaries                              Data Science Job Salaries                             7KB  2022-06-15 08:59:12           1057         49  1.0              \n",
            "iamsouravbanerjee/software-professional-salaries-2022           Salary Dataset - 2022                               526KB  2022-06-15 17:13:05           2068         55  1.0              \n",
            "hanzlanawaz/monkeypox-outbreak                                  Monkeypox Outbreak Dataset                           27KB  2022-06-06 03:13:58            891         43  0.9705882        \n",
            "mayureshkoli/police-deaths-in-usa-from-1791-to-2022             Police deaths in USA from 1791 to 2022              698KB  2022-06-09 17:47:57           1034         32  1.0              \n",
            "imoore/age-dataset                                              Age dataset: life, work, and death of 1.22M people   34MB  2022-06-07 08:56:52            942         58  1.0              \n",
            "hassanshehzadk/top-50-most-followed-instagram-accounts          Top 50 Most Followed Instagram Accounts               2KB  2022-06-07 06:40:27            490         26  1.0              \n",
            "paradisejoy/top-hits-spotify-from-20002019                      Top Hits Spotify from 2000-2019                      94KB  2022-05-31 07:20:57           7488        169  1.0              \n",
            "saddamazyazy/go-to-college-dataset                              Go To College Dataset                                12KB  2022-05-20 10:46:02           2216         55  1.0              \n",
            "outofskills/driving-behavior                                    Driving Behavior                                    196KB  2022-06-05 09:40:48            538         33  1.0              \n",
            "odins0n/amex-parquet                                            Amex Competition Data in Parquet Format               9GB  2022-05-25 23:20:19           1061        132  1.0              \n",
            "dansbecker/melbourne-housing-snapshot                           Melbourne Housing Snapshot                          451KB  2018-06-05 12:52:24          89466       1097  0.7058824        \n",
            "digvijaysinhgohil/imdb-dataset-toprated-films-18982022          IMDb Dataset Top-Rated films 1898-2022               50KB  2022-06-15 08:41:14            408         31  1.0              \n",
            "srivnaman/data-science-and-ai-jobs-indeed                       Data Science and AI Jobs Indeed                      59KB  2022-06-16 16:40:52            238         28  0.88235295       \n",
            "surajjha101/stores-area-and-sales-data                          Supermarket store branches sales analysis            10KB  2022-04-29 11:10:16           7399        199  1.0              \n",
            "ruchi798/parquet-files-amexdefault-prediction                   Feather & Parquet Files : AMEX-Default Prediction    22GB  2022-05-26 05:46:53            773        110  1.0              \n",
            "azminetoushikwasi/ucl-202122-uefa-champions-league              UCL ⚽ 2021-22 ⭐ Players Data | Champions League      55KB  2022-06-20 03:01:18           1828         59  1.0              \n"
          ]
        }
      ]
    },
    {
      "cell_type": "code",
      "source": [
        "files.upload()"
      ],
      "metadata": {
        "colab": {
          "resources": {
            "http://localhost:8080/nbextensions/google.colab/files.js": {
              "data": "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",
              "ok": true,
              "headers": [
                [
                  "content-type",
                  "application/javascript"
                ]
              ],
              "status": 200,
              "status_text": ""
            }
          },
          "base_uri": "https://localhost:8080/",
          "height": 469
        },
        "id": "JJKAJuwa6M1v",
        "outputId": "81f1a5d4-6fa2-4197-e6c5-bcc6ded82978"
      },
      "execution_count": 9,
      "outputs": [
        {
          "output_type": "display_data",
          "data": {
            "text/plain": [
              "<IPython.core.display.HTML object>"
            ],
            "text/html": [
              "\n",
              "     <input type=\"file\" id=\"files-965e1044-cc85-498a-be15-8dc1cdeba257\" name=\"files[]\" multiple disabled\n",
              "        style=\"border:none\" />\n",
              "     <output id=\"result-965e1044-cc85-498a-be15-8dc1cdeba257\">\n",
              "      Upload widget is only available when the cell has been executed in the\n",
              "      current browser session. Please rerun this cell to enable.\n",
              "      </output>\n",
              "      <script src=\"/nbextensions/google.colab/files.js\"></script> "
            ]
          },
          "metadata": {}
        },
        {
          "output_type": "stream",
          "name": "stdout",
          "text": [
            "Saving archive (1).zip to archive (1).zip\n"
          ]
        },
        {
          "output_type": "execute_result",
          "data": {
            "text/plain": [
              "{'archive (1).zip': b'PK\\x03\\x04-\\x00\\x00\\x00\\x08\\x00\\xfc\\t\\x11Sm\\xa9\\xa0\\x0f\\xff\\xff\\xff\\xff\\xff\\xff\\xff\\xff\\n\\x00\\x14\\x00possum.csv\\x01\\x00\\x10\\x00l\\x15\\x00\\x00\\x00\\x00\\x00\\x00\\xfd\\x07\\x00\\x00\\x00\\x00\\x00\\x00]XK\\x92,5\\x0c\\xdc\\xfb,\\x8e\\x8e\\xb2-\\xff\\x96\\\\\\x80`\\xc5\\xfe1\\xf4\\xfb\\x04\\x03C0C\\x00\\xb7G\\x99R\\xb9\\\\o3\\xd3]]*I\\xa9TJ\\xae\\x97O\\xef\\xcf\\xf8\\xfe\\xed\\xe3\\x19\\x7fz\\xfb3\\xbe?\\xff\\x8d\\x9f\\xbe<\\xe3\\xd7__\\xff\\xf8\\xf2\\xf15\\xbe\\xff\\xf6\\xf7\\xeb\\xeb?\\xf1\\xe3\\xed\\xc3\\xbe\\x7f|\\xfa\\xf6\\xfa\\x1a?\\xbf\\xe9w|}~\\xfa\\xeb\\xe5\\xed\\x8f\\x17\\xfd\\xf0\\xdf3\\xbe|}\\xbe\\x7f\\xc4_\\x9e\\xaf\\xaf\\xff\\x85\\x14S\\xfc\\xf9\\xdbK\\xfc=\\x8e8\\xe5\\x91b;\\x1e\\x12\\xc7\\x8c\\xa5\\xc5.\\x8f\\x1a+\\xfe\\xa4\\xfa\\xc81\\x0f\\xbd\\x18\\xb2\\x1b|\\x8e-\\xce\\x8c\\x1b\\xfaC?%\\xfdT\\x9a\\xfe\\xe9\\xbc\\x96\\xf4\\xfe\\xd4\\xd4\\x04\\x97K(\\xbb\\x91\\xa8\\x8f8+~\\x99\\xb1Wu\\xa7\\xb7O\\xf8\\xd0+G,\\x12d\\xbf\\xbd\\xe8\\xa3\\xd4GRo\\xb1\\x8c\\xd8\\x9b~\\xac\\x19\\xcf?\\x83\\x92P\\x97A\\xb6Pj{\\x948\\xf8D\\xcdC\\r\\x8a\\x19\\xa4\\x15R[&\\t>\\x12\\x12U\\x08\\x0e\\xfc\\n\\xbbN\\xbfEsK\\xa2\\x9f\\x10X\\x0e}\\xa1\\x95\\x91A\\x89u\\xe8oc\\x9e~\\xe09_\\x06\\n]\\x18\\xb7\\xd4\\xd5\\x85\\xe3\\x15K\\x07V\\x1d>&Lj\\xcc\\x13\\xb9\\xcce0\\x11\\x98X.\\x060M\\x04\\xe9;^H\\xbf\\x84t\\xecN\\x12\\x9c\\x0c\\x8f\\xaa#\\x95Co\\xafx\\x94\\xba\\x91\\x98qM\\x93I\\xe9\\xee\\xa9 \\xb43\\x1b\\xad\\x0c\\xbehe\\n\\xac4\\xb2\\x84\\xe0\\xd2U\\xfe\\x8at\\xf4\\xb9\\x15\\xe9d\\x07-!\\xa1\\x84\\xd8\\xca\\x19[Y\\x98U`\\xa6@O5\\xbb0\\x8b25`\\xb5\\x18\\x1a\\x19\\xe3\\x92eQ`!7\\x8a\\x81\\x95\\x05\\xd9\\xf4\\xb3\\x9e\\x1a\\x9a\\xe2\\x9c\\xea\\xee\\x07\\x00\\xd1\\xca8\\xa0\\x94\\x9b\\x8c\\xcc<uZ\\xa9M[6\\x82\\xe77\\xc5:\\x8e\\xc6\\xc2)\\x01p\\xff\\x89\\xd9`d}e\\x9f\\x90}\\x8f\\xad\\xeb\\x1f\\xcfe#\\r9\\xd0Y\\xd0\\x14\\xd2X^2p\\xae\\xc0\\xac+\\xd5\\x98\\r\\x12\\xa9Hra\\xa6~\\xe6\\x1de\\xb1;\\x9c\\x9c\\xb0\\x11\\xa7\\xcd\\xd9\\x029\\xe4\\x8b\\x03\\xe2Dc\\x0fL6M\\xc1\\xf7l^*q\\xd6N\\xbe\\xeaO\\x9c\\'\\xd8\\xacy5\\xd6\\x1f\\xd9t\\\\\\xcbFO2Z\\x8e\\x90s\\xdc\\xaa\\xd3\\xac\\x07*\\t=\\r\\x01\\xf4\\x80>\\'\\xb5K3\\xca\\x1e[\\xb6\\xfeL\\xa7\\xcad\\xc4\\x06\\xfa\\xa5\\xeaH\\xd7\\x90e\\xc7\\x8c\\x08\\x80lCP\\xcb^q\\x7fu\\x0f\\xe4L\\xae{T\\x95\\x1d\\xc0\\xa8V;\\xe7\\x07\\xeb\\xd9.6\\xab\\x97\\xab\\xfeZ\\x0f\\xad\\xfe\\xbc\\xaa\\x02.P3X\\xc5\\x11\\xf2U\\xfbl\\x95\\xa02\\x0e\\xab\\xc8\\x81\\xa7\\x1f`\\x17\\x90\\xca(d\\xc8W\\xdd\\x05ugE\\xb4/\\xfb\\xc9/r\\xc5\\xeb\\xae\\x17\\x15\\xdb\\xb9W\\x84\\xb8(\\x1f\\x07=\\xb0\\xd7\\xc8_\\xc5H\\x90s9\\xf6\\x88\\xb2I\\x98\\x10\\xa3b]\\xdfVL\\x9a\\x05\\xfe@\\x8a\\xd3\\x8e\\x14}@\\xf6g\\x81\\xba4\\xb2\\xa4\\xbaE\\x07{\\xcb\\xd5\\xf1\\xe4UA\\x16\\x1d*\\x0e\\x8d \\xcf\\xb2ajR\\\\\\xca\\xfe\\xfcd\\x95k\\xacuGL\\xe3\\xcc\\x02\\xfd.\\xc8Z+\\x9a\\xafZ3j\\xf4\\x87\\xab\\xb7!E\\x05O\\xde\\x8b6W\\x82\\xa2\\x92/|\\xc5tbZEL\\x8b2\\x9eD\\x9e8\\xaf`\\xd5\\x96Uw\\xd5\\x9b\\xe8\\x93\\x13\\xe5r\\xe5c\\x01\\x04\\x8d;/\\x9c\\x07n\\xe6\\xa8\\x18\\xd9\\xbb\\x91~\\xd4\\x06\\x9c9\\xd5H{n\\xf3B\\xcdV\\x0c\\xd6piC\\xaf\\x08\\xfa%\\xa1\\xef\\xac\\xfa\\x8a\\xe7\\xe9G{CL\\xaf*\\xd8\\x0e\\xfd\\x1a6*\\xb4/\\x94-\\x9ay\\rr\\xac\\xfb\\x81\\xb4\\xe6\\n\\xabz\\xf5\\x14\\xd5\\x8bQ\\xf1\\xf9\\x92\\xd6\\xfdz\\xe7 ^q\\x14\\xc3\\xf8\\xc7\\x1f\\xb4\\xb9\\xad\\x07=\\x1e\\xcdB\\xf2\\xca\\x82\\xd3\\xb4\\x18W:Z.\\xb6l\\x112\\xf3\\xe1h\\x95 eCK\\xbb\\x89\\x15\\x18\\t\\x16=#g\\xc6$\\xae\\x8dr\\xd5^#\\x18\\x1c\\x0fL\\xbay\\x11\\xd9X\\xd9\\xdaV\\xd8X=H\\xdd\\xc2R\\xc2P@\\'\\x9d\\x88\\x0fa\\xca\\xb6%\\x8erH\\xdb\\xdd\\x9c\\xac\\xb4^\\xa9\\x0b\\xad\\xecN\\x08\\xa2\\x1a\\xa9q|\\xfb\\xf8\\xfa\\xfc\\xebd\\xa6/\\t\\xe42\\xaa\\xd8\\xa2\\x90_(\\x07s\\x1f\\x9b\\x85\\xaa\\xcf\\xd0\\x10\\x1a\\xda|X\\r\\x9bF)\\xa0V:\\'\\x90\\xcc\\xcdB|\\xdaM\\xb7\\xd0~\\xd4\\xfbO\\x8eL\\'O\\xa8\\xc7\\xb2\\xe1|\\xb0\\xb9\\x85l\\x06\\xb4\\xbe\\xd5(\\xfd\\xb1\\xf5d\\x0b:\\x91o\\x16\\x18\\xd9\\xea\\xa5\\xd1\\x8b\\x86\\xa8\\\\\\xe44\\xe9\\xde\\'\\xe8.e\\xf4\\x15\\x99N_\\x0c\\xd3\\x96l~)\\xf3Z\\xb7\\\\\\x8aOnnU\\x19ve\\xf3U|\\xb5\\xe2\\\\I\\x8c\\x0e>\\xb4\\x1c\\t\\xa4\\xd3N\\x86T\\x05-\\x97,_Pb}v\\xf3\\x9dG\\xf9\\xd4\\xb1\\x84\\xc0\\x86\\x8b\\xcbA\\xc2\\x06e\\xbbl\\xd5I\\x07\\x1c\\x11l\\x0e\\x18\\x0c=\\xfc7\\xb8\\x81N9\\xac\\x9d\\xb5\\x11/Cu\\x82m\\xa4\\xc1\\xd3\\xc4(F\\x88h5\\x81T\\x9bp\\xd0+X\\xa4\\xed\"+5Y\\xcb\\x0c\\xc4=js5\\xa0.\\xd5\\x16\\xa6\\xca\\x113\\x83.b7o\\xf8\\xa5aFp`\\x82\\x12\\x15\\xbe|\\xcd\\xb0\\x18K\\xd0AtO\\x0e\\xa94\\xd0T\\xa7\\x94\\xa2\\xcf\\xd9!\\xdc\\xcc\\xa1\\x13\\xda[\\x9a\\x98n\\xd5Wx\\xdc\\x83\\xb9\\xd1u\\xf2\\x02\\x80j\\xb8\\xca\\xe9SCU\\x11\\xb4\\x9eu\\xc7\\x1d\\xb2\\xab\\xae\\xb1\\x01\\r\\xbf\\x9f\\xf0\\xa1R\\xcc(\\xb4\\xbc,Lu8\\xff}3Q\\x1fh\\x07\\xe1\\xce\\xd8|2k\\x1d/\\x0bn\\x8a\\xceU+R\\x83\\xa0H3\\x1eeS\\x11\\xaa\\xbb\\x92\\xf2\\xe6\\t\\x9c\\xa8\\x88\\xc2\\xb6-\\x98\\xeb\\xa3\\x055H8\\x1d\\x9c\\xfa\\xa3\\xf4\\xbf\\xec\\xaa\\xef[}\\xf7\\x88\\x95]\\xb0\\xa8&S!zkwo8\\x04U\\x10\\x1bX4\\xfa2\\xc4\\xb3\\xef\\x8f\\xc4CB\\xeb\\x1b\\x82\\xb2\\xb6h\\xef,\\xabu\\x87]r\\xc6\\x83Lh\\xe5\\x80Q\\xbbk\\x05n\\xe1\\xb4\\xf7(\\xd1\\xf3R,;q\\x05W9\\xb8\\xd9\\x0c\\xdb\\xbeQ_\\xeaQ\\x05\\x1e\\x8d\\xf5\\x1a\\x16_?\\xb6\\xbc:\\xea5\\x1d\\xff\\xee^\\xc4\\xa3\\xb3\\x1dD-vN4\\xdf\\x10\\xb8\\x7f\\x1f\\xec{d/\\x99{\\xb4\\xb7\\x86\\xda\\xe4\\xcd&A\\xc6\\xa7m\\x9b>\\xf1\\x94\\xba\\xb0!\\xc9\\xcfJ\\x1d\\xa1\\x97\\xbb\\x15\\xf7B\\xaci#;v\\xd5\\xb0\\xebdS!3BW\\x1d\\xdd\\x9app.f\\xce\\xb1a},\\xd56\\xd6N\\x96ktuY\\xfcn\\x07\\xcaa\\x8ad\\xbbqk\\xd6\\xb6\\xd4\\xa4\\xb94I\\'P\\xdb\\xb1\\xb6\\x19n\\xea\\x8ff\\x97\\xd5\\xb8\\x1d\\xfa\\x07\\xab\\xa0\\x83\\xf1;O\\xbeEb\\xce4k`\\xc9&H\\x993C\\xfd\\x8c\\xcdFcB\\xe2\\xaa\\xd7\\x18f\\xcd9N\\x95-k\\xaf\\xec\\xf3n\\xc1m\\xf7\\xb8,\\xe8\\xa5\\xf8\\x86\\x95\\xad\\x9b\\xc6\\xf1\\xbd\\x97nc\\x15\\x91\\r\\xd8\\xd0\\x8fU\\xb5\\xb0>\\xb0J\\x9bU\\xf1\\xdd\\xec<S\\x91=\\xcd;\\xa9;\\x17\\xd4&\\xdf\\xeb\\xd30\\x8cWE\\x0fc\\xcf\\xf4]\\xbfA!\\xb4t\\x97E\\xe1\\xce\\x80\\x12\\r?\\xef\\x81;<\\x1d\\x08\\xf7\\x9e\\x19\\x86\\xdc\\xa2\\xb2M\\x86;\\xe6qZ \\xaeb\\x15\\xb5m\\x89\\x18\\xd4\\xbb\\x1dt\\x84\\xd5QM\\x92\\xc3\\xf8F\\xbb}\\xff\\x85]\\xbb\\xc57\\xc6y\\xc6c\\xadL\\x89\\xb0\\xa6\\x08\\xcf\\xa4\\xdc\\xb7\\x1a\\xb4R[\\xaco\">\\xc7\\t\\x00\\xc7\\xc5\\xc3O\\xcb6hl\\x16\\xb6\\xa0\\xad\\xdc\\x97/n\\x9b\\x8dg\\xf9\\xee\\x88\\xa3n\\x16a\\xf3>b\\x84s\\xf3\\xc4Y\\xdd\\xc1p\\xf1}\\x90*\\x84\\xa9\\xbb6\\x9ci\\xf5U\\xa8\\xfb\\x86\\xc8\\x04n\\x86\\xe4\\x99\\x17\\x8e\\xe6\\xc6\\x0b\"B\\x8f\\x98\\xf2:\\xbdn\\x96\\xe8\\x01\\xdb(\\xa63C\\xbbc\\xe5\\x95\\x83B|\\xc3\\x82K\\x9b\\xbd\\xa3\\xe1\\x9e\\x03\\x811$.?)(P\\xfd^\\xb1|\\xb2\\x89\\xf3i\\xf8|\\xca~\\x96P\\x0b\\xd9,\\xba\\xbf\\x0b\\xe9\\xcesn\\xdeb\\xdd\\x9e.$4\\x9b\\xbaY\\xad7\\x01\\x8fS\\x8d\\xbb\\xd9QY\\xc4\\xf7*\\x9e\\x8dt\\x18\\xdf\\xecx\\x1a\\xe2\\xd9\\xa5x\\xb5\\xb8\\x8bu\\xe7\\xae*\\xc4\\xecw\\xdc\\xfc\\\\\\xb3&\\xee\\xe0\\x9ec\\x18Xm\\xe7\\xd8,\\xaa\\xbd\\x0ek\\xe3\\xcc\\xc89+\\xe7\\xd2\\xe1{X\\x98\\x17#|\\x0b+\\xaeD\\x17g\\x85:\\xf1\\xb0\\x13\\xa5\\xbd\\x0f9vB\\xa4\\xb3E\\xceV|\\xd8\\xca\\xebe\\x1a\\xbe\\x8d\\xa7#\\xdd\\x8d\\x86\\xb1\\xa8\\xfb\\ti:\\xfb\\xc6\\x85\\x82\\xee3[x\\xcd\\xc5\\xb5\\x9e\\xe4)\\x0bj6\\xaf\\x8e\\n\\xdd\\xee\\xbe\\xaf\\x10\\xdf\\xa2d\\xf7\\xe1\\xba7]\\xfb\\xa9-\\xd4\\x8at\\xc8\\xf7@\\xb4\\xf3\\x05\\x94\\xaf\\xb1\\xcd!?\\x97X\\x88\\xff\\xffPK\\x01\\x023\\x00-\\x00\\x00\\x00\\x08\\x00\\xfc\\t\\x11Sm\\xa9\\xa0\\x0f\\xff\\xff\\xff\\xff\\xff\\xff\\xff\\xff\\n\\x00\\x14\\x00\\x00\\x00\\x00\\x00\\x00\\x00\\x00\\x00\\x00\\x00\\x00\\x00\\x00\\x00possum.csv\\x01\\x00\\x10\\x00l\\x15\\x00\\x00\\x00\\x00\\x00\\x00\\xfd\\x07\\x00\\x00\\x00\\x00\\x00\\x00PK\\x05\\x06\\x00\\x00\\x00\\x00\\x01\\x00\\x01\\x00L\\x00\\x00\\x009\\x08\\x00\\x00\\x00\\x00'}"
            ]
          },
          "metadata": {},
          "execution_count": 9
        }
      ]
    },
    {
      "cell_type": "code",
      "source": [
        "!unzip \"archive (1).zip\" -d \"archive/\""
      ],
      "metadata": {
        "colab": {
          "base_uri": "https://localhost:8080/"
        },
        "id": "6wSZsyKZ62HK",
        "outputId": "5c80f123-1a8c-43e8-f58c-43916a475be1"
      },
      "execution_count": 12,
      "outputs": [
        {
          "output_type": "stream",
          "name": "stdout",
          "text": [
            "Archive:  archive (1).zip\n",
            "  inflating: archive/possum.csv      \n"
          ]
        }
      ]
    },
    {
      "cell_type": "code",
      "source": [
        "import pandas as pd\n",
        "import sklearn\n",
        "import numpy as np\n",
        "import matplotlib.pyplot as plt"
      ],
      "metadata": {
        "id": "hVYo0FGb7NWW"
      },
      "execution_count": 166,
      "outputs": []
    },
    {
      "cell_type": "code",
      "source": [
        "df = pd.read_csv('archive/possum.csv')\n",
        "df.head()"
      ],
      "metadata": {
        "colab": {
          "base_uri": "https://localhost:8080/",
          "height": 206
        },
        "id": "fHZtVp1H7P56",
        "outputId": "24888068-5b58-43e3-a270-f58223228a85"
      },
      "execution_count": 167,
      "outputs": [
        {
          "output_type": "execute_result",
          "data": {
            "text/plain": [
              "   case  site  Pop sex  age  hdlngth  skullw  totlngth  taill  footlgth  \\\n",
              "0     1     1  Vic   m  8.0     94.1    60.4      89.0   36.0      74.5   \n",
              "1     2     1  Vic   f  6.0     92.5    57.6      91.5   36.5      72.5   \n",
              "2     3     1  Vic   f  6.0     94.0    60.0      95.5   39.0      75.4   \n",
              "3     4     1  Vic   f  6.0     93.2    57.1      92.0   38.0      76.1   \n",
              "4     5     1  Vic   f  2.0     91.5    56.3      85.5   36.0      71.0   \n",
              "\n",
              "   earconch   eye  chest  belly  \n",
              "0      54.5  15.2   28.0   36.0  \n",
              "1      51.2  16.0   28.5   33.0  \n",
              "2      51.9  15.5   30.0   34.0  \n",
              "3      52.2  15.2   28.0   34.0  \n",
              "4      53.2  15.1   28.5   33.0  "
            ],
            "text/html": [
              "\n",
              "  <div id=\"df-c6021f6c-bbeb-4a6e-9892-9483e079ce19\">\n",
              "    <div class=\"colab-df-container\">\n",
              "      <div>\n",
              "<style scoped>\n",
              "    .dataframe tbody tr th:only-of-type {\n",
              "        vertical-align: middle;\n",
              "    }\n",
              "\n",
              "    .dataframe tbody tr th {\n",
              "        vertical-align: top;\n",
              "    }\n",
              "\n",
              "    .dataframe thead th {\n",
              "        text-align: right;\n",
              "    }\n",
              "</style>\n",
              "<table border=\"1\" class=\"dataframe\">\n",
              "  <thead>\n",
              "    <tr style=\"text-align: right;\">\n",
              "      <th></th>\n",
              "      <th>case</th>\n",
              "      <th>site</th>\n",
              "      <th>Pop</th>\n",
              "      <th>sex</th>\n",
              "      <th>age</th>\n",
              "      <th>hdlngth</th>\n",
              "      <th>skullw</th>\n",
              "      <th>totlngth</th>\n",
              "      <th>taill</th>\n",
              "      <th>footlgth</th>\n",
              "      <th>earconch</th>\n",
              "      <th>eye</th>\n",
              "      <th>chest</th>\n",
              "      <th>belly</th>\n",
              "    </tr>\n",
              "  </thead>\n",
              "  <tbody>\n",
              "    <tr>\n",
              "      <th>0</th>\n",
              "      <td>1</td>\n",
              "      <td>1</td>\n",
              "      <td>Vic</td>\n",
              "      <td>m</td>\n",
              "      <td>8.0</td>\n",
              "      <td>94.1</td>\n",
              "      <td>60.4</td>\n",
              "      <td>89.0</td>\n",
              "      <td>36.0</td>\n",
              "      <td>74.5</td>\n",
              "      <td>54.5</td>\n",
              "      <td>15.2</td>\n",
              "      <td>28.0</td>\n",
              "      <td>36.0</td>\n",
              "    </tr>\n",
              "    <tr>\n",
              "      <th>1</th>\n",
              "      <td>2</td>\n",
              "      <td>1</td>\n",
              "      <td>Vic</td>\n",
              "      <td>f</td>\n",
              "      <td>6.0</td>\n",
              "      <td>92.5</td>\n",
              "      <td>57.6</td>\n",
              "      <td>91.5</td>\n",
              "      <td>36.5</td>\n",
              "      <td>72.5</td>\n",
              "      <td>51.2</td>\n",
              "      <td>16.0</td>\n",
              "      <td>28.5</td>\n",
              "      <td>33.0</td>\n",
              "    </tr>\n",
              "    <tr>\n",
              "      <th>2</th>\n",
              "      <td>3</td>\n",
              "      <td>1</td>\n",
              "      <td>Vic</td>\n",
              "      <td>f</td>\n",
              "      <td>6.0</td>\n",
              "      <td>94.0</td>\n",
              "      <td>60.0</td>\n",
              "      <td>95.5</td>\n",
              "      <td>39.0</td>\n",
              "      <td>75.4</td>\n",
              "      <td>51.9</td>\n",
              "      <td>15.5</td>\n",
              "      <td>30.0</td>\n",
              "      <td>34.0</td>\n",
              "    </tr>\n",
              "    <tr>\n",
              "      <th>3</th>\n",
              "      <td>4</td>\n",
              "      <td>1</td>\n",
              "      <td>Vic</td>\n",
              "      <td>f</td>\n",
              "      <td>6.0</td>\n",
              "      <td>93.2</td>\n",
              "      <td>57.1</td>\n",
              "      <td>92.0</td>\n",
              "      <td>38.0</td>\n",
              "      <td>76.1</td>\n",
              "      <td>52.2</td>\n",
              "      <td>15.2</td>\n",
              "      <td>28.0</td>\n",
              "      <td>34.0</td>\n",
              "    </tr>\n",
              "    <tr>\n",
              "      <th>4</th>\n",
              "      <td>5</td>\n",
              "      <td>1</td>\n",
              "      <td>Vic</td>\n",
              "      <td>f</td>\n",
              "      <td>2.0</td>\n",
              "      <td>91.5</td>\n",
              "      <td>56.3</td>\n",
              "      <td>85.5</td>\n",
              "      <td>36.0</td>\n",
              "      <td>71.0</td>\n",
              "      <td>53.2</td>\n",
              "      <td>15.1</td>\n",
              "      <td>28.5</td>\n",
              "      <td>33.0</td>\n",
              "    </tr>\n",
              "  </tbody>\n",
              "</table>\n",
              "</div>\n",
              "      <button class=\"colab-df-convert\" onclick=\"convertToInteractive('df-c6021f6c-bbeb-4a6e-9892-9483e079ce19')\"\n",
              "              title=\"Convert this dataframe to an interactive table.\"\n",
              "              style=\"display:none;\">\n",
              "        \n",
              "  <svg xmlns=\"http://www.w3.org/2000/svg\" height=\"24px\"viewBox=\"0 0 24 24\"\n",
              "       width=\"24px\">\n",
              "    <path d=\"M0 0h24v24H0V0z\" fill=\"none\"/>\n",
              "    <path d=\"M18.56 5.44l.94 2.06.94-2.06 2.06-.94-2.06-.94-.94-2.06-.94 2.06-2.06.94zm-11 1L8.5 8.5l.94-2.06 2.06-.94-2.06-.94L8.5 2.5l-.94 2.06-2.06.94zm10 10l.94 2.06.94-2.06 2.06-.94-2.06-.94-.94-2.06-.94 2.06-2.06.94z\"/><path d=\"M17.41 7.96l-1.37-1.37c-.4-.4-.92-.59-1.43-.59-.52 0-1.04.2-1.43.59L10.3 9.45l-7.72 7.72c-.78.78-.78 2.05 0 2.83L4 21.41c.39.39.9.59 1.41.59.51 0 1.02-.2 1.41-.59l7.78-7.78 2.81-2.81c.8-.78.8-2.07 0-2.86zM5.41 20L4 18.59l7.72-7.72 1.47 1.35L5.41 20z\"/>\n",
              "  </svg>\n",
              "      </button>\n",
              "      \n",
              "  <style>\n",
              "    .colab-df-container {\n",
              "      display:flex;\n",
              "      flex-wrap:wrap;\n",
              "      gap: 12px;\n",
              "    }\n",
              "\n",
              "    .colab-df-convert {\n",
              "      background-color: #E8F0FE;\n",
              "      border: none;\n",
              "      border-radius: 50%;\n",
              "      cursor: pointer;\n",
              "      display: none;\n",
              "      fill: #1967D2;\n",
              "      height: 32px;\n",
              "      padding: 0 0 0 0;\n",
              "      width: 32px;\n",
              "    }\n",
              "\n",
              "    .colab-df-convert:hover {\n",
              "      background-color: #E2EBFA;\n",
              "      box-shadow: 0px 1px 2px rgba(60, 64, 67, 0.3), 0px 1px 3px 1px rgba(60, 64, 67, 0.15);\n",
              "      fill: #174EA6;\n",
              "    }\n",
              "\n",
              "    [theme=dark] .colab-df-convert {\n",
              "      background-color: #3B4455;\n",
              "      fill: #D2E3FC;\n",
              "    }\n",
              "\n",
              "    [theme=dark] .colab-df-convert:hover {\n",
              "      background-color: #434B5C;\n",
              "      box-shadow: 0px 1px 3px 1px rgba(0, 0, 0, 0.15);\n",
              "      filter: drop-shadow(0px 1px 2px rgba(0, 0, 0, 0.3));\n",
              "      fill: #FFFFFF;\n",
              "    }\n",
              "  </style>\n",
              "\n",
              "      <script>\n",
              "        const buttonEl =\n",
              "          document.querySelector('#df-c6021f6c-bbeb-4a6e-9892-9483e079ce19 button.colab-df-convert');\n",
              "        buttonEl.style.display =\n",
              "          google.colab.kernel.accessAllowed ? 'block' : 'none';\n",
              "\n",
              "        async function convertToInteractive(key) {\n",
              "          const element = document.querySelector('#df-c6021f6c-bbeb-4a6e-9892-9483e079ce19');\n",
              "          const dataTable =\n",
              "            await google.colab.kernel.invokeFunction('convertToInteractive',\n",
              "                                                     [key], {});\n",
              "          if (!dataTable) return;\n",
              "\n",
              "          const docLinkHtml = 'Like what you see? Visit the ' +\n",
              "            '<a target=\"_blank\" href=https://colab.research.google.com/notebooks/data_table.ipynb>data table notebook</a>'\n",
              "            + ' to learn more about interactive tables.';\n",
              "          element.innerHTML = '';\n",
              "          dataTable['output_type'] = 'display_data';\n",
              "          await google.colab.output.renderOutput(dataTable, element);\n",
              "          const docLink = document.createElement('div');\n",
              "          docLink.innerHTML = docLinkHtml;\n",
              "          element.appendChild(docLink);\n",
              "        }\n",
              "      </script>\n",
              "    </div>\n",
              "  </div>\n",
              "  "
            ]
          },
          "metadata": {},
          "execution_count": 167
        }
      ]
    },
    {
      "cell_type": "code",
      "source": [
        "df.shape"
      ],
      "metadata": {
        "colab": {
          "base_uri": "https://localhost:8080/"
        },
        "id": "ua8dYJbG7q6H",
        "outputId": "fa2bab11-8c06-48b8-b0ff-cdd9cc70f27b"
      },
      "execution_count": 168,
      "outputs": [
        {
          "output_type": "execute_result",
          "data": {
            "text/plain": [
              "(104, 14)"
            ]
          },
          "metadata": {},
          "execution_count": 168
        }
      ]
    },
    {
      "cell_type": "code",
      "source": [
        "df.nunique()"
      ],
      "metadata": {
        "colab": {
          "base_uri": "https://localhost:8080/"
        },
        "id": "IaqL08_t8CBJ",
        "outputId": "be362008-d820-4d9f-f9bf-0df74eb31f79"
      },
      "execution_count": 169,
      "outputs": [
        {
          "output_type": "execute_result",
          "data": {
            "text/plain": [
              "case        104\n",
              "site          7\n",
              "Pop           2\n",
              "sex           2\n",
              "age           9\n",
              "hdlngth      71\n",
              "skullw       64\n",
              "totlngth     34\n",
              "taill        19\n",
              "footlgth     75\n",
              "earconch     69\n",
              "eye          35\n",
              "chest        19\n",
              "belly        24\n",
              "dtype: int64"
            ]
          },
          "metadata": {},
          "execution_count": 169
        }
      ]
    },
    {
      "cell_type": "code",
      "source": [
        "df.isna().sum()"
      ],
      "metadata": {
        "colab": {
          "base_uri": "https://localhost:8080/"
        },
        "id": "KC22r5Ua8E1o",
        "outputId": "3b4094f9-0871-41b2-b1e2-997c6fc2bed5"
      },
      "execution_count": 170,
      "outputs": [
        {
          "output_type": "execute_result",
          "data": {
            "text/plain": [
              "case        0\n",
              "site        0\n",
              "Pop         0\n",
              "sex         0\n",
              "age         2\n",
              "hdlngth     0\n",
              "skullw      0\n",
              "totlngth    0\n",
              "taill       0\n",
              "footlgth    1\n",
              "earconch    0\n",
              "eye         0\n",
              "chest       0\n",
              "belly       0\n",
              "dtype: int64"
            ]
          },
          "metadata": {},
          "execution_count": 170
        }
      ]
    },
    {
      "cell_type": "code",
      "source": [
        "df['age'] = df['age'].fillna(df.age.mean())\n",
        "df['footlgth'] = df['footlgth'].fillna(df.footlgth.mean())"
      ],
      "metadata": {
        "id": "waJ88VBK8d6l"
      },
      "execution_count": 171,
      "outputs": []
    },
    {
      "cell_type": "code",
      "source": [
        "df.isna().sum()"
      ],
      "metadata": {
        "colab": {
          "base_uri": "https://localhost:8080/"
        },
        "id": "AVUCeqlZ8-J8",
        "outputId": "ea930cfa-2786-4643-8dbd-7f5950516147"
      },
      "execution_count": 172,
      "outputs": [
        {
          "output_type": "execute_result",
          "data": {
            "text/plain": [
              "case        0\n",
              "site        0\n",
              "Pop         0\n",
              "sex         0\n",
              "age         0\n",
              "hdlngth     0\n",
              "skullw      0\n",
              "totlngth    0\n",
              "taill       0\n",
              "footlgth    0\n",
              "earconch    0\n",
              "eye         0\n",
              "chest       0\n",
              "belly       0\n",
              "dtype: int64"
            ]
          },
          "metadata": {},
          "execution_count": 172
        }
      ]
    },
    {
      "cell_type": "code",
      "source": [
        "df.shape"
      ],
      "metadata": {
        "colab": {
          "base_uri": "https://localhost:8080/"
        },
        "id": "3oB_IdQg9rR8",
        "outputId": "d24b8287-228f-4616-90a7-f0670688afe0"
      },
      "execution_count": 173,
      "outputs": [
        {
          "output_type": "execute_result",
          "data": {
            "text/plain": [
              "(104, 14)"
            ]
          },
          "metadata": {},
          "execution_count": 173
        }
      ]
    },
    {
      "cell_type": "code",
      "source": [
        "X = df.drop(['totlngth', 'Pop', 'sex'], axis = 1)\n",
        "y = df['totlngth']"
      ],
      "metadata": {
        "id": "lnAkDvPz9xkJ"
      },
      "execution_count": 174,
      "outputs": []
    },
    {
      "cell_type": "code",
      "source": [
        "print(X.shape)\n",
        "print(y.shape)"
      ],
      "metadata": {
        "colab": {
          "base_uri": "https://localhost:8080/"
        },
        "id": "WB8MYyJw-Ghs",
        "outputId": "5f1e0456-f171-4789-dad8-edc7ca4cdf42"
      },
      "execution_count": 175,
      "outputs": [
        {
          "output_type": "stream",
          "name": "stdout",
          "text": [
            "(104, 11)\n",
            "(104,)\n"
          ]
        }
      ]
    },
    {
      "cell_type": "code",
      "source": [
        "from sklearn.model_selection import train_test_split\n",
        "from sklearn.linear_model import LinearRegression\n",
        "from sklearn.metrics import accuracy_score"
      ],
      "metadata": {
        "id": "guj5to-A-Ipe"
      },
      "execution_count": 202,
      "outputs": []
    },
    {
      "cell_type": "code",
      "source": [
        "X_train, X_test, y_train, y_test = train_test_split(X, y, test_size = 0.1)"
      ],
      "metadata": {
        "id": "p9N8ewew-cV6"
      },
      "execution_count": 203,
      "outputs": []
    },
    {
      "cell_type": "code",
      "source": [
        "regr = LinearRegression()\n",
        "regr.fit(X_train, y_train)\n",
        "print(regr.score(X_test, y_test))"
      ],
      "metadata": {
        "colab": {
          "base_uri": "https://localhost:8080/"
        },
        "id": "4wq62P_P-koA",
        "outputId": "f18543f7-a8f3-4db6-b345-7850cd7373c4"
      },
      "execution_count": 204,
      "outputs": [
        {
          "output_type": "stream",
          "name": "stdout",
          "text": [
            "0.6924749478353895\n"
          ]
        }
      ]
    },
    {
      "cell_type": "code",
      "source": [
        "from sklearn import linear_model\n",
        "\n",
        "regr_lasso = linear_model.Lasso(alpha = 0.5, max_iter = 1000000)\n",
        "regr_lasso.fit(X_train, y_train)\n",
        "print(regr_lasso.score(X_test, y_test))"
      ],
      "metadata": {
        "colab": {
          "base_uri": "https://localhost:8080/"
        },
        "id": "qlbrhqyy_jmd",
        "outputId": "c65eaaeb-a3c8-4d2c-bbcc-93b21ec709e0"
      },
      "execution_count": 244,
      "outputs": [
        {
          "output_type": "stream",
          "name": "stdout",
          "text": [
            "0.7205035283226247\n"
          ]
        }
      ]
    },
    {
      "cell_type": "code",
      "source": [
        "from sklearn import linear_model\n",
        "\n",
        "regr_ridge = linear_model.Ridge(alpha = 0.1, max_iter = 1000000)\n",
        "regr_ridge.fit(X_train, y_train)\n",
        "print(regr_ridge.score(X_test, y_test))"
      ],
      "metadata": {
        "colab": {
          "base_uri": "https://localhost:8080/"
        },
        "id": "58suMqSQAntB",
        "outputId": "4c5682fd-0855-42c2-ba4e-848e79cba198"
      },
      "execution_count": 248,
      "outputs": [
        {
          "output_type": "stream",
          "name": "stdout",
          "text": [
            "0.6924461622858793\n"
          ]
        }
      ]
    },
    {
      "cell_type": "code",
      "source": [
        "from sklearn.preprocessing import MinMaxScaler\n",
        "norm = MinMaxScaler().fit(X_train)\n",
        "X_train_norm = norm.transform(X_train)\n",
        "X_test_norm = norm.transform(X_test)"
      ],
      "metadata": {
        "id": "PbrvnbFVCZoR"
      },
      "execution_count": 249,
      "outputs": []
    },
    {
      "cell_type": "code",
      "source": [
        "regr.fit(X_train_norm, y_train)\n",
        "y_pred = regr.predict(X_test_norm)\n",
        "print(regr.score(X_test_norm, y_test))\n",
        "\n",
        "regr_lasso_2 = linear_model.Lasso(alpha = 0.025, max_iter = 1000000)\n",
        "regr_lasso_2.fit(X_train_norm, y_train)\n",
        "print(regr_lasso_2.score(X_test_norm, y_test))\n",
        "\n",
        "regr_ridge_2 = linear_model.Ridge(alpha = 0.025, max_iter = 1000000)\n",
        "regr_ridge_2.fit(X_train_norm, y_train)\n",
        "print(regr_ridge_2.score(X_test_norm, y_test))"
      ],
      "metadata": {
        "colab": {
          "base_uri": "https://localhost:8080/"
        },
        "id": "SCpJOLV2DeQy",
        "outputId": "56499319-08e1-496d-a270-c20d9b4c9977"
      },
      "execution_count": 252,
      "outputs": [
        {
          "output_type": "stream",
          "name": "stdout",
          "text": [
            "0.6924749478353893\n",
            "0.7325301721291985\n",
            "0.6911008530199038\n"
          ]
        }
      ]
    },
    {
      "cell_type": "code",
      "source": [
        "from sklearn.preprocessing import StandardScaler\n",
        "scale = StandardScaler().fit(X_train)\n",
        "X_train_stand = scale.transform(X_train)\n",
        "X_test_stand = scale.transform(X_test)"
      ],
      "metadata": {
        "id": "e5CCwNL4DzT7"
      },
      "execution_count": 218,
      "outputs": []
    },
    {
      "cell_type": "code",
      "source": [
        "regr.fit(X_train_stand, y_train)\n",
        "y_pred = regr.predict(X_test_stand)\n",
        "print(regr.score(X_test_stand, y_test))\n",
        "\n",
        "regr_lasso_2.fit(X_train_stand, y_train)\n",
        "y_pred_regr_lasso = regr_lasso.predict(X_test_stand)\n",
        "print(regr_lasso_2.score(X_test_stand, y_test))\n",
        "\n",
        "regr_ridge.fit(X_train_stand, y_train)\n",
        "y_pred_regr_ridge = regr_ridge.predict(X_test_stand)\n",
        "print(regr_ridge.score(X_test_stand, y_test))"
      ],
      "metadata": {
        "colab": {
          "base_uri": "https://localhost:8080/"
        },
        "id": "Ki48JvIDFmV6",
        "outputId": "c3170427-a6aa-4b9e-b566-a3bb0677fbf6"
      },
      "execution_count": 253,
      "outputs": [
        {
          "output_type": "stream",
          "name": "stdout",
          "text": [
            "0.6924749478353904\n",
            "0.7028654899658593\n",
            "0.692394546015795\n"
          ]
        },
        {
          "output_type": "stream",
          "name": "stderr",
          "text": [
            "/usr/local/lib/python3.7/dist-packages/sklearn/base.py:451: UserWarning: X does not have valid feature names, but Lasso was fitted with feature names\n",
            "  \"X does not have valid feature names, but\"\n"
          ]
        }
      ]
    },
    {
      "cell_type": "code",
      "source": [
        ""
      ],
      "metadata": {
        "id": "-sH2HOjTF6BY"
      },
      "execution_count": null,
      "outputs": []
    }
  ]
}